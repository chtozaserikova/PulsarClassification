{
 "cells": [
  {
   "cell_type": "code",
   "execution_count": 1,
   "metadata": {
    "collapsed": false,
    "pycharm": {
     "name": "#%%\n"
    }
   },
   "outputs": [],
   "source": [
    "import pandas as pd\n",
    "from sklearn.preprocessing import LabelEncoder\n",
    "import matplotlib.pyplot as plt"
   ]
  },
  {
   "cell_type": "code",
   "execution_count": 3,
   "metadata": {},
   "outputs": [
    {
     "data": {
      "text/html": [
       "<div>\n",
       "<style scoped>\n",
       "    .dataframe tbody tr th:only-of-type {\n",
       "        vertical-align: middle;\n",
       "    }\n",
       "\n",
       "    .dataframe tbody tr th {\n",
       "        vertical-align: top;\n",
       "    }\n",
       "\n",
       "    .dataframe thead th {\n",
       "        text-align: right;\n",
       "    }\n",
       "</style>\n",
       "<table border=\"1\" class=\"dataframe\">\n",
       "  <thead>\n",
       "    <tr style=\"text-align: right;\">\n",
       "      <th></th>\n",
       "      <th>label</th>\n",
       "      <th>npoints</th>\n",
       "      <th>grayscale255</th>\n",
       "    </tr>\n",
       "  </thead>\n",
       "  <tbody>\n",
       "    <tr>\n",
       "      <th>0</th>\n",
       "      <td>Y</td>\n",
       "      <td>36.0</td>\n",
       "      <td>[74.0, 40.0, 71.0, 91.0, 78.0, 53.0, 80.0, 63....</td>\n",
       "    </tr>\n",
       "    <tr>\n",
       "      <th>1</th>\n",
       "      <td>N</td>\n",
       "      <td>131.0</td>\n",
       "      <td>[110.0, 72.0, 92.0, 75.0, 111.0, 130.0, 130.0,...</td>\n",
       "    </tr>\n",
       "    <tr>\n",
       "      <th>2</th>\n",
       "      <td>U</td>\n",
       "      <td>29.0</td>\n",
       "      <td>[34.0, 30.0, 39.0, 13.0, 40.0, 38.0, 29.0, 32....</td>\n",
       "    </tr>\n",
       "    <tr>\n",
       "      <th>3</th>\n",
       "      <td>N</td>\n",
       "      <td>101.0</td>\n",
       "      <td>[125.0, 83.0, 162.0, 152.0, 129.0, 139.0, 156....</td>\n",
       "    </tr>\n",
       "    <tr>\n",
       "      <th>4</th>\n",
       "      <td>N</td>\n",
       "      <td>33.0</td>\n",
       "      <td>[145.0, 114.0, 151.0, 96.0, 91.0, 102.0, 125.0...</td>\n",
       "    </tr>\n",
       "    <tr>\n",
       "      <th>...</th>\n",
       "      <td>...</td>\n",
       "      <td>...</td>\n",
       "      <td>...</td>\n",
       "    </tr>\n",
       "    <tr>\n",
       "      <th>24674</th>\n",
       "      <td>N</td>\n",
       "      <td>46.0</td>\n",
       "      <td>[149.0, 138.0, 114.0, 167.0, 146.0, 116.0, 118...</td>\n",
       "    </tr>\n",
       "    <tr>\n",
       "      <th>24675</th>\n",
       "      <td>N</td>\n",
       "      <td>26.0</td>\n",
       "      <td>[119.0, 129.0, 124.0, 167.0, 76.0, 82.0, 150.0...</td>\n",
       "    </tr>\n",
       "    <tr>\n",
       "      <th>24676</th>\n",
       "      <td>N</td>\n",
       "      <td>59.0</td>\n",
       "      <td>[102.0, 135.0, 106.0, 156.0, 162.0, 123.0, 150...</td>\n",
       "    </tr>\n",
       "    <tr>\n",
       "      <th>24677</th>\n",
       "      <td>N</td>\n",
       "      <td>50.0</td>\n",
       "      <td>[125.0, 105.0, 185.0, 150.0, 156.0, 118.0, 74....</td>\n",
       "    </tr>\n",
       "    <tr>\n",
       "      <th>24678</th>\n",
       "      <td>N</td>\n",
       "      <td>31.0</td>\n",
       "      <td>[125.0, 109.0, 151.0, 138.0, 127.0, 205.0, 157...</td>\n",
       "    </tr>\n",
       "  </tbody>\n",
       "</table>\n",
       "<p>24679 rows × 3 columns</p>\n",
       "</div>"
      ],
      "text/plain": [
       "      label  npoints                                       grayscale255\n",
       "0         Y     36.0  [74.0, 40.0, 71.0, 91.0, 78.0, 53.0, 80.0, 63....\n",
       "1         N    131.0  [110.0, 72.0, 92.0, 75.0, 111.0, 130.0, 130.0,...\n",
       "2         U     29.0  [34.0, 30.0, 39.0, 13.0, 40.0, 38.0, 29.0, 32....\n",
       "3         N    101.0  [125.0, 83.0, 162.0, 152.0, 129.0, 139.0, 156....\n",
       "4         N     33.0  [145.0, 114.0, 151.0, 96.0, 91.0, 102.0, 125.0...\n",
       "...     ...      ...                                                ...\n",
       "24674     N     46.0  [149.0, 138.0, 114.0, 167.0, 146.0, 116.0, 118...\n",
       "24675     N     26.0  [119.0, 129.0, 124.0, 167.0, 76.0, 82.0, 150.0...\n",
       "24676     N     59.0  [102.0, 135.0, 106.0, 156.0, 162.0, 123.0, 150...\n",
       "24677     N     50.0  [125.0, 105.0, 185.0, 150.0, 156.0, 118.0, 74....\n",
       "24678     N     31.0  [125.0, 109.0, 151.0, 138.0, 127.0, 205.0, 157...\n",
       "\n",
       "[24679 rows x 3 columns]"
      ]
     },
     "execution_count": 3,
     "metadata": {},
     "output_type": "execute_result"
    }
   ],
   "source": [
    "df = pd.read_parquet('astra21.parquet.snappy')\n",
    "df"
   ]
  },
  {
   "cell_type": "markdown",
   "metadata": {},
   "source": [
    "**0 = No**\n",
    "\n",
    "**1 = Uncertain**\n",
    "\n",
    "**2 = Yes**"
   ]
  },
  {
   "cell_type": "code",
   "execution_count": 12,
   "metadata": {},
   "outputs": [
    {
     "data": {
      "text/plain": [
       "0    19940\n",
       "2     3987\n",
       "1      752\n",
       "Name: label, dtype: int64"
      ]
     },
     "execution_count": 12,
     "metadata": {},
     "output_type": "execute_result"
    }
   ],
   "source": [
    "labelencoder = LabelEncoder()\n",
    "df['label'] = labelencoder.fit_transform(df['label'])\n",
    "\n",
    "df['label'].value_counts()"
   ]
  },
  {
   "cell_type": "code",
   "execution_count": 31,
   "metadata": {},
   "outputs": [
    {
     "data": {
      "text/plain": [
       "(1188, 4323)"
      ]
     },
     "execution_count": 31,
     "metadata": {},
     "output_type": "execute_result"
    }
   ],
   "source": [
    "len(df.loc[0,'grayscale255']), len(df.loc[1,'grayscale255']) \n",
    "\n",
    "# 36 (npoint) * 33 = 1188\n",
    "# 131 (npoint) * 33 = 4324"
   ]
  },
  {
   "cell_type": "markdown",
   "metadata": {},
   "source": [
    "Фича \"npoints\" характеризует высоту (h) изображения, ширина (w) всех изображений фиксирована и равна 33 пикселям"
   ]
  },
  {
   "cell_type": "code",
   "execution_count": 33,
   "metadata": {},
   "outputs": [
    {
     "data": {
      "image/png": "[encoded data removed]",
      "text/plain": [
       "<Figure size 440x480 with 1 Axes>"
      ]
     },
     "metadata": {},
     "output_type": "display_data"
    },
    {
     "data": {
      "image/png": "[encoded data removed]",
      "text/plain": [
       "<Figure size 546.207x480 with 1 Axes>"
      ]
     },
     "metadata": {},
     "output_type": "display_data"
    }
   ],
   "source": [
    "plt.matshow(df['grayscale255'][0].reshape(-1, 33))\n",
    "plt.matshow(df['grayscale255'][2].reshape(-1, 33))"
   ]
  },
  {
   "cell_type": "code",
   "execution_count": 14,
   "metadata": {},
   "outputs": [
    {
     "data": {
      "text/plain": [
       "(24.0, 148.0)"
      ]
     },
     "execution_count": 14,
     "metadata": {},
     "output_type": "execute_result"
    }
   ],
   "source": [
    "df['npoints'].min(), df['npoints'].max()"
   ]
  },
  {
   "cell_type": "markdown",
   "metadata": {},
   "source": [
    "Сохраним готовые изображения для дальнейшего обучения сверточных нейросетей для задачи классификации"
   ]
  },
  {
   "cell_type": "code",
   "execution_count": 36,
   "metadata": {},
   "outputs": [
    {
     "name": "stderr",
     "output_type": "stream",
     "text": [
      "C:\\Users\\Sveta\\AppData\\Local\\Temp\\ipykernel_7768\\1860512502.py:2: RuntimeWarning: More than 20 figures have been opened. Figures created through the pyplot interface (`matplotlib.pyplot.figure`) are retained until explicitly closed and may consume too much memory. (To control this warning, see the rcParam `figure.max_open_warning`). Consider using `matplotlib.pyplot.close()`.\n",
      "  plt.matshow(df['grayscale255'][i].reshape(-1, 33))\n"
     ]
    }
   ],
   "source": [
    "for i in range(len(df)):\n",
    "    plt.matshow(df['grayscale255'][i].reshape(-1, 33))\n",
    "    plt.savefig('images/%d.png' % i, bbox_inches='tight')"
   ]
  }
 ],
 "metadata": {
  "kernelspec": {
   "display_name": "Python 3.10.5 ('venv': venv)",
   "language": "python",
   "name": "python3"
  },
  "language_info": {
   "codemirror_mode": {
    "name": "ipython",
    "version": 3
   },
   "file_extension": ".py",
   "mimetype": "text/x-python",
   "name": "python",
   "nbconvert_exporter": "python",
   "pygments_lexer": "ipython3",
   "version": "3.10.5 (tags/v3.10.5:f377153, Jun  6 2022, 16:14:13) [MSC v.1929 64 bit (AMD64)]"
  },
  "vscode": {
   "interpreter": {
    "hash": "13428b0be1cddc2618324fe595c83b68b1bb67e4ef03d12182ba5d28f63c8318"
   }
  }
 },
 "nbformat": 4,
 "nbformat_minor": 0
}
